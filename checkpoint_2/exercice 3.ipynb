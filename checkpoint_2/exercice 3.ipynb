{
 "cells": [
  {
   "cell_type": "code",
   "execution_count": 2,
   "id": "496c19cb",
   "metadata": {},
   "outputs": [
    {
     "name": "stdout",
     "output_type": "stream",
     "text": [
      "{'a': 400, 'b': 400, 'd': 400, 'c': 300}\n"
     ]
    }
   ],
   "source": [
    "mydict1 = {'a': 100, 'b': 200, 'c': 300}\n",
    "mydict2 = {'a': 300, 'b': 200, 'd': 400}\n",
    "cpt = 0\n",
    "for i in range(len(mydict1)):\n",
    "    if [key for key in mydict1.keys()][cpt] in mydict2.keys():\n",
    "        mydict2[[key for key in mydict1.keys()][cpt]] = (int([key for key in mydict1.values()][cpt])) + int(([key for key in mydict2.values()][cpt]))\n",
    "        cpt += 1\n",
    "    elif [key for key in mydict1.keys()][cpt] not in mydict2.keys():\n",
    "        mydict2[[key for key in mydict1.keys()][cpt]] = [key for key in mydict1.values()][cpt]\n",
    "        cpt += 1\n",
    "    elif [key for key in mydict2.keys()][cpt] not in mydict1.keys():\n",
    "        mydict2[[key for key in mydict2.keys()][cpt]] = [key for key in mydict2.values()][cpt]\n",
    "        cpt += 1\n",
    "\n",
    "print(mydict2)\n"
   ]
  },
  {
   "cell_type": "code",
   "execution_count": null,
   "id": "2efe08a5",
   "metadata": {},
   "outputs": [],
   "source": []
  }
 ],
 "metadata": {
  "kernelspec": {
   "display_name": "Python 3",
   "language": "python",
   "name": "python3"
  },
  "language_info": {
   "codemirror_mode": {
    "name": "ipython",
    "version": 3
   },
   "file_extension": ".py",
   "mimetype": "text/x-python",
   "name": "python",
   "nbconvert_exporter": "python",
   "pygments_lexer": "ipython3",
   "version": "3.8.8"
  }
 },
 "nbformat": 4,
 "nbformat_minor": 5
}
